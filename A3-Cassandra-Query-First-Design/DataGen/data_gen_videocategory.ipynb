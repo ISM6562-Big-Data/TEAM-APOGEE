{
 "cells": [
  {
   "cell_type": "code",
   "execution_count": 1,
   "metadata": {},
   "outputs": [],
   "source": [
    "import pandas as pd;\n",
    "import numpy as np;\n",
    "import random"
   ]
  },
  {
   "cell_type": "code",
   "execution_count": 2,
   "metadata": {},
   "outputs": [],
   "source": [
    "video_table = pd.read_csv(\"../DB_Table/Video_Table.csv\")\n",
    "videoid = video_table[\"video_id\"]\n",
    "\n",
    "category_table = pd.read_csv(\"../DB_Table/Category_Table.csv\")\n",
    "categoryid = category_table[\"category_id\"]"
   ]
  },
  {
   "cell_type": "code",
   "execution_count": 3,
   "metadata": {},
   "outputs": [],
   "source": [
    "columns = ['video_id', 'category_id']\n",
    "df_videocategory = pd.DataFrame(columns=columns)"
   ]
  },
  {
   "cell_type": "code",
   "execution_count": 4,
   "metadata": {},
   "outputs": [],
   "source": [
    "data = [{\n",
    "    'category_id': None,\n",
    "    'video_id': None\n",
    "} for _ in range(5000)]  # Generate 50000 entries"
   ]
  },
  {
   "cell_type": "code",
   "execution_count": 5,
   "metadata": {},
   "outputs": [
    {
     "name": "stdout",
     "output_type": "stream",
     "text": [
      "  category_id         video_id\n",
      "0     CT_YO29  VYOjWN1yjS23201\n",
      "1     CT_YO36  VYOjWN2yjS34202\n",
      "2     CT_YO46  VYOjWN3yjS45203\n",
      "3      CT_YO1  VYOjWN4yjS56204\n",
      "4     CT_YO21  VYOjWN5yjS67205\n"
     ]
    }
   ],
   "source": [
    "for i, item in enumerate(data, start=0):\n",
    "    item['category_id'] = random.choice(categoryid)\n",
    "    item['video_id'] = videoid[i]\n",
    "   # item['user_id'] = i\n",
    "# Create DataFrame\n",
    "df_videocategory = pd.DataFrame(data)\n",
    "# Display the first few rows of the DataFrame\n",
    "print(df_videocategory.head())"
   ]
  },
  {
   "cell_type": "code",
   "execution_count": 6,
   "metadata": {},
   "outputs": [],
   "source": [
    "df_videocategory.to_csv(\"../DB_Table/VideoCategory_Table.csv\", index =False)"
   ]
  }
 ],
 "metadata": {
  "kernelspec": {
   "display_name": "base",
   "language": "python",
   "name": "python3"
  },
  "language_info": {
   "codemirror_mode": {
    "name": "ipython",
    "version": 3
   },
   "file_extension": ".py",
   "mimetype": "text/x-python",
   "name": "python",
   "nbconvert_exporter": "python",
   "pygments_lexer": "ipython3",
   "version": "3.11.4"
  }
 },
 "nbformat": 4,
 "nbformat_minor": 2
}
