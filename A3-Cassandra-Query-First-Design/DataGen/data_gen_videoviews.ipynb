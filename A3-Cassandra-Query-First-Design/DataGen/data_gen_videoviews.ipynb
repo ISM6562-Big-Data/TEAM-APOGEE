{
 "cells": [
  {
   "cell_type": "code",
   "execution_count": 1,
   "metadata": {},
   "outputs": [],
   "source": [
    "##!pip install Faker;\n",
    "import pandas as pd;\n",
    "import numpy as np;\n",
    "import random;"
   ]
  },
  {
   "cell_type": "code",
   "execution_count": 2,
   "metadata": {},
   "outputs": [],
   "source": [
    "users_table = pd.read_csv(\"../DB_Table/Users_Table.csv\")\n",
    "userids = users_table[\"user_id\"]\n",
    "\n",
    "video_table = pd.read_csv(\"../DB_Table/Video_Table.csv\")\n",
    "videoids = video_table[\"video_id\"]"
   ]
  },
  {
   "cell_type": "code",
   "execution_count": 3,
   "metadata": {},
   "outputs": [],
   "source": [
    "columns = ['view_id', 'user_id', 'video_id']\n",
    "df_videoviews = pd.DataFrame(columns=columns)"
   ]
  },
  {
   "cell_type": "code",
   "execution_count": null,
   "metadata": {},
   "outputs": [],
   "source": []
  },
  {
   "cell_type": "code",
   "execution_count": 7,
   "metadata": {},
   "outputs": [],
   "source": [
    "# Iterate over each user ID , we are taking only 175 user IDs\n",
    "for video_id in videoids[:3000]:\n",
    "    # Generate a random number from 20 to 100 for each user ID\n",
    "    random_number = random.randint(10, 50)\n",
    "    for i in range(0, random_number):\n",
    "        x = video_id\n",
    "        y = random.choice(userids)\n",
    "        new_row = pd.Series(data = {'view_id':None, 'user_id':y, 'video_id':x}, name = None)\n",
    "            #print(f\"User ID {user_id}: subs {random.choice(userids)}\")\n",
    "            #df_videoviews = df_videoviews.append(new_row, ignore_index=True)\n",
    "        df_videoviews = pd.concat([df_videoviews, pd.DataFrame([new_row])], ignore_index=True)"
   ]
  },
  {
   "cell_type": "code",
   "execution_count": 8,
   "metadata": {},
   "outputs": [
    {
     "name": "stdout",
     "output_type": "stream",
     "text": [
      "145806\n"
     ]
    }
   ],
   "source": [
    "print(len(df_videoviews))"
   ]
  },
  {
   "cell_type": "code",
   "execution_count": 9,
   "metadata": {},
   "outputs": [
    {
     "name": "stdout",
     "output_type": "stream",
     "text": [
      "130943\n"
     ]
    }
   ],
   "source": [
    "df_videoviews = df_videoviews.drop_duplicates(subset=['user_id', 'video_id'])\n",
    "print(len(df_videoviews))"
   ]
  },
  {
   "cell_type": "code",
   "execution_count": 10,
   "metadata": {},
   "outputs": [
    {
     "name": "stdout",
     "output_type": "stream",
     "text": [
      "  view_id         user_id         video_id\n",
      "0  VYO100    UC_YO46yjS47  VYOjWN1yjS23201\n",
      "1  VYO101    UC_YO17yjS18  VYOjWN1yjS23201\n",
      "2  VYO102    UC_YO63yjS64  VYOjWN1yjS23201\n",
      "3  VYO103    UC_YO30yjS31  VYOjWN1yjS23201\n",
      "4  VYO104  UC_YO180yjS181  VYOjWN1yjS23201\n"
     ]
    }
   ],
   "source": [
    "for i, item in df_videoviews.iterrows():\n",
    "    item['view_id'] = \"VYO\"+str(100+i)\n",
    "    \n",
    "   \n",
    "print(df_videoviews.head())"
   ]
  },
  {
   "cell_type": "code",
   "execution_count": 11,
   "metadata": {},
   "outputs": [],
   "source": [
    "df_videoviews.to_csv('../DB_Table/VideoViews_Table.csv', index=False)"
   ]
  }
 ],
 "metadata": {
  "kernelspec": {
   "display_name": "Python 3",
   "language": "python",
   "name": "python3"
  },
  "language_info": {
   "codemirror_mode": {
    "name": "ipython",
    "version": 3
   },
   "file_extension": ".py",
   "mimetype": "text/x-python",
   "name": "python",
   "nbconvert_exporter": "python",
   "pygments_lexer": "ipython3",
   "version": "3.11.4"
  }
 },
 "nbformat": 4,
 "nbformat_minor": 2
}
