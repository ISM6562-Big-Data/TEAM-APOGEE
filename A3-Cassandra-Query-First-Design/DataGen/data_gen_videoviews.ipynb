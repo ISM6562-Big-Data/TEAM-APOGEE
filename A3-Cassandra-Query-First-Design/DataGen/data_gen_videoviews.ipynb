{
 "cells": [
  {
   "cell_type": "code",
   "execution_count": 25,
   "metadata": {},
   "outputs": [],
   "source": [
    "##!pip install Faker;\n",
    "import pandas as pd;\n",
    "import numpy as np;\n",
    "import random;\n",
    "from faker import Faker;\n",
    "from datetime import datetime, timezone"
   ]
  },
  {
   "cell_type": "code",
   "execution_count": 3,
   "metadata": {},
   "outputs": [],
   "source": [
    "users_table = pd.read_csv(\"../DB_Table/Users_Table.csv\")\n",
    "userids = users_table[\"user_id\"]\n",
    "\n",
    "video_table = pd.read_csv(\"../DB_Table/Video_Table.csv\")\n",
    "videoids = video_table[\"video_id\"]"
   ]
  },
  {
   "cell_type": "code",
   "execution_count": 4,
   "metadata": {},
   "outputs": [],
   "source": [
    "columns = ['view_id', 'user_id', 'video_id']\n",
    "df_videoviews = pd.DataFrame(columns=columns)"
   ]
  },
  {
   "cell_type": "code",
   "execution_count": null,
   "metadata": {},
   "outputs": [],
   "source": []
  },
  {
   "cell_type": "code",
   "execution_count": 16,
   "metadata": {},
   "outputs": [],
   "source": [
    "# Iterate over each user ID , we are taking only 175 user IDs\n",
    "for video_id in videoids[:2000]:\n",
    "    # Generate a random number from 20 to 100 for each user ID\n",
    "    random_number = random.randint(10, 50)\n",
    "    for i in range(0, random_number):\n",
    "        x = video_id\n",
    "        y = random.choice(userids)\n",
    "        new_row = pd.Series(data = {'view_id':None, 'user_id':y, 'video_id':x}, name = None)\n",
    "            #print(f\"User ID {user_id}: subs {random.choice(userids)}\")\n",
    "            #df_videoviews = df_videoviews.append(new_row, ignore_index=True)\n",
    "        df_videoviews = pd.concat([df_videoviews, pd.DataFrame([new_row])], ignore_index=True)"
   ]
  },
  {
   "cell_type": "code",
   "execution_count": 17,
   "metadata": {},
   "outputs": [
    {
     "name": "stdout",
     "output_type": "stream",
     "text": [
      "150961\n"
     ]
    }
   ],
   "source": [
    "print(len(df_videoviews))"
   ]
  },
  {
   "cell_type": "code",
   "execution_count": 18,
   "metadata": {},
   "outputs": [
    {
     "name": "stdout",
     "output_type": "stream",
     "text": [
      "119860\n"
     ]
    }
   ],
   "source": [
    "df_videoviews = df_videoviews.drop_duplicates(subset=['user_id', 'video_id'])\n",
    "print(len(df_videoviews))"
   ]
  },
  {
   "cell_type": "code",
   "execution_count": 19,
   "metadata": {},
   "outputs": [
    {
     "name": "stdout",
     "output_type": "stream",
     "text": [
      "  view_id         user_id         video_id\n",
      "0  VYO100    UC_YO91yjS92  VYOjWN1yjS23201\n",
      "1  VYO101  UC_YO173yjS174  VYOjWN1yjS23201\n",
      "2  VYO102    UC_YO36yjS37  VYOjWN1yjS23201\n",
      "3  VYO103    UC_YO30yjS31  VYOjWN1yjS23201\n",
      "4  VYO104  UC_YO114yjS115  VYOjWN1yjS23201\n"
     ]
    }
   ],
   "source": [
    "for i, item in df_videoviews.iterrows():\n",
    "    item['view_id'] = \"VYO\"+str(100+i)\n",
    "    \n",
    "   \n",
    "print(df_videoviews.head())"
   ]
  },
  {
   "cell_type": "code",
   "execution_count": 27,
   "metadata": {},
   "outputs": [
    {
     "name": "stdout",
     "output_type": "stream",
     "text": [
      "Requirement already satisfied: pandas in /Library/Frameworks/Python.framework/Versions/3.11/lib/python3.11/site-packages (2.2.1)\n",
      "Requirement already satisfied: numpy<2,>=1.23.2 in /Library/Frameworks/Python.framework/Versions/3.11/lib/python3.11/site-packages (from pandas) (1.25.2)\n",
      "Requirement already satisfied: python-dateutil>=2.8.2 in /Library/Frameworks/Python.framework/Versions/3.11/lib/python3.11/site-packages (from pandas) (2.8.2)\n",
      "Requirement already satisfied: pytz>=2020.1 in /Library/Frameworks/Python.framework/Versions/3.11/lib/python3.11/site-packages (from pandas) (2023.3)\n",
      "Requirement already satisfied: tzdata>=2022.7 in /Library/Frameworks/Python.framework/Versions/3.11/lib/python3.11/site-packages (from pandas) (2023.3)\n",
      "Requirement already satisfied: six>=1.5 in /Library/Frameworks/Python.framework/Versions/3.11/lib/python3.11/site-packages (from python-dateutil>=2.8.2->pandas) (1.16.0)\n",
      "\n",
      "\u001b[1m[\u001b[0m\u001b[34;49mnotice\u001b[0m\u001b[1;39;49m]\u001b[0m\u001b[39;49m A new release of pip is available: \u001b[0m\u001b[31;49m23.3.1\u001b[0m\u001b[39;49m -> \u001b[0m\u001b[32;49m24.0\u001b[0m\n",
      "\u001b[1m[\u001b[0m\u001b[34;49mnotice\u001b[0m\u001b[1;39;49m]\u001b[0m\u001b[39;49m To update, run: \u001b[0m\u001b[32;49mpip install --upgrade pip\u001b[0m\n",
      "Note: you may need to restart the kernel to use updated packages.\n"
     ]
    }
   ],
   "source": [
    "pip install --upgrade pandas"
   ]
  },
  {
   "cell_type": "code",
   "execution_count": 29,
   "metadata": {},
   "outputs": [
    {
     "ename": "ImportError",
     "evalue": "cannot import name 'SequenceNotStr' from 'pandas._typing' (/Library/Frameworks/Python.framework/Versions/3.11/lib/python3.11/site-packages/pandas/_typing.py)",
     "output_type": "error",
     "traceback": [
      "\u001b[0;31m---------------------------------------------------------------------------\u001b[0m",
      "\u001b[0;31mImportError\u001b[0m                               Traceback (most recent call last)",
      "Cell \u001b[0;32mIn[29], line 1\u001b[0m\n\u001b[0;32m----> 1\u001b[0m \u001b[43mdf_videoviews\u001b[49m\u001b[38;5;241;43m.\u001b[39;49m\u001b[43mto_csv\u001b[49m\u001b[43m(\u001b[49m\u001b[38;5;124;43m'\u001b[39;49m\u001b[38;5;124;43m../DB_Table/VideoViews_Table.csv\u001b[39;49m\u001b[38;5;124;43m'\u001b[39;49m\u001b[43m,\u001b[49m\u001b[43m \u001b[49m\u001b[43mindex\u001b[49m\u001b[38;5;241;43m=\u001b[39;49m\u001b[38;5;28;43;01mFalse\u001b[39;49;00m\u001b[43m)\u001b[49m\n",
      "File \u001b[0;32m/Library/Frameworks/Python.framework/Versions/3.11/lib/python3.11/site-packages/pandas/core/generic.py:3902\u001b[0m, in \u001b[0;36mto_csv\u001b[0;34m(self, path_or_buf, sep, na_rep, float_format, columns, header, index, index_label, mode, encoding, compression, quoting, quotechar, lineterminator, chunksize, date_format, doublequote, escapechar, decimal, errors, storage_options)\u001b[0m\n\u001b[1;32m   3794\u001b[0m \u001b[38;5;129m@final\u001b[39m\n\u001b[1;32m   3795\u001b[0m \u001b[38;5;129m@deprecate_nonkeyword_arguments\u001b[39m(\n\u001b[1;32m   3796\u001b[0m     version\u001b[38;5;241m=\u001b[39m\u001b[38;5;124m\"\u001b[39m\u001b[38;5;124m3.0\u001b[39m\u001b[38;5;124m\"\u001b[39m, allowed_args\u001b[38;5;241m=\u001b[39m[\u001b[38;5;124m\"\u001b[39m\u001b[38;5;124mself\u001b[39m\u001b[38;5;124m\"\u001b[39m, \u001b[38;5;124m\"\u001b[39m\u001b[38;5;124mpath_or_buf\u001b[39m\u001b[38;5;124m\"\u001b[39m], name\u001b[38;5;241m=\u001b[39m\u001b[38;5;124m\"\u001b[39m\u001b[38;5;124mto_csv\u001b[39m\u001b[38;5;124m\"\u001b[39m\n\u001b[0;32m   (...)\u001b[0m\n\u001b[1;32m   3824\u001b[0m     storage_options: StorageOptions \u001b[38;5;241m|\u001b[39m \u001b[38;5;28;01mNone\u001b[39;00m \u001b[38;5;241m=\u001b[39m \u001b[38;5;28;01mNone\u001b[39;00m,\n\u001b[1;32m   3825\u001b[0m ) \u001b[38;5;241m-\u001b[39m\u001b[38;5;241m>\u001b[39m \u001b[38;5;28mstr\u001b[39m \u001b[38;5;241m|\u001b[39m \u001b[38;5;28;01mNone\u001b[39;00m:\n\u001b[1;32m   3826\u001b[0m \u001b[38;5;250m    \u001b[39m\u001b[38;5;124mr\u001b[39m\u001b[38;5;124;03m\"\"\"\u001b[39;00m\n\u001b[1;32m   3827\u001b[0m \u001b[38;5;124;03m    Write object to a comma-separated values (csv) file.\u001b[39;00m\n\u001b[1;32m   3828\u001b[0m \n\u001b[1;32m   3829\u001b[0m \u001b[38;5;124;03m    Parameters\u001b[39;00m\n\u001b[1;32m   3830\u001b[0m \u001b[38;5;124;03m    ----------\u001b[39;00m\n\u001b[1;32m   3831\u001b[0m \u001b[38;5;124;03m    path_or_buf : str, path object, file-like object, or None, default None\u001b[39;00m\n\u001b[1;32m   3832\u001b[0m \u001b[38;5;124;03m        String, path object (implementing os.PathLike[str]), or file-like\u001b[39;00m\n\u001b[1;32m   3833\u001b[0m \u001b[38;5;124;03m        object implementing a write() function. If None, the result is\u001b[39;00m\n\u001b[1;32m   3834\u001b[0m \u001b[38;5;124;03m        returned as a string. If a non-binary file object is passed, it should\u001b[39;00m\n\u001b[1;32m   3835\u001b[0m \u001b[38;5;124;03m        be opened with `newline=''`, disabling universal newlines. If a binary\u001b[39;00m\n\u001b[1;32m   3836\u001b[0m \u001b[38;5;124;03m        file object is passed, `mode` might need to contain a `'b'`.\u001b[39;00m\n\u001b[1;32m   3837\u001b[0m \u001b[38;5;124;03m    sep : str, default ','\u001b[39;00m\n\u001b[1;32m   3838\u001b[0m \u001b[38;5;124;03m        String of length 1. Field delimiter for the output file.\u001b[39;00m\n\u001b[1;32m   3839\u001b[0m \u001b[38;5;124;03m    na_rep : str, default ''\u001b[39;00m\n\u001b[1;32m   3840\u001b[0m \u001b[38;5;124;03m        Missing data representation.\u001b[39;00m\n\u001b[1;32m   3841\u001b[0m \u001b[38;5;124;03m    float_format : str, Callable, default None\u001b[39;00m\n\u001b[1;32m   3842\u001b[0m \u001b[38;5;124;03m        Format string for floating point numbers. If a Callable is given, it takes\u001b[39;00m\n\u001b[1;32m   3843\u001b[0m \u001b[38;5;124;03m        precedence over other numeric formatting parameters, like decimal.\u001b[39;00m\n\u001b[1;32m   3844\u001b[0m \u001b[38;5;124;03m    columns : sequence, optional\u001b[39;00m\n\u001b[1;32m   3845\u001b[0m \u001b[38;5;124;03m        Columns to write.\u001b[39;00m\n\u001b[1;32m   3846\u001b[0m \u001b[38;5;124;03m    header : bool or list of str, default True\u001b[39;00m\n\u001b[1;32m   3847\u001b[0m \u001b[38;5;124;03m        Write out the column names. If a list of strings is given it is\u001b[39;00m\n\u001b[1;32m   3848\u001b[0m \u001b[38;5;124;03m        assumed to be aliases for the column names.\u001b[39;00m\n\u001b[1;32m   3849\u001b[0m \u001b[38;5;124;03m    index : bool, default True\u001b[39;00m\n\u001b[1;32m   3850\u001b[0m \u001b[38;5;124;03m        Write row names (index).\u001b[39;00m\n\u001b[1;32m   3851\u001b[0m \u001b[38;5;124;03m    index_label : str or sequence, or False, default None\u001b[39;00m\n\u001b[1;32m   3852\u001b[0m \u001b[38;5;124;03m        Column label for index column(s) if desired. If None is given, and\u001b[39;00m\n\u001b[1;32m   3853\u001b[0m \u001b[38;5;124;03m        `header` and `index` are True, then the index names are used. A\u001b[39;00m\n\u001b[1;32m   3854\u001b[0m \u001b[38;5;124;03m        sequence should be given if the object uses MultiIndex. If\u001b[39;00m\n\u001b[1;32m   3855\u001b[0m \u001b[38;5;124;03m        False do not print fields for index names. Use index_label=False\u001b[39;00m\n\u001b[1;32m   3856\u001b[0m \u001b[38;5;124;03m        for easier importing in R.\u001b[39;00m\n\u001b[1;32m   3857\u001b[0m \u001b[38;5;124;03m    mode : {{'w', 'x', 'a'}}, default 'w'\u001b[39;00m\n\u001b[1;32m   3858\u001b[0m \u001b[38;5;124;03m        Forwarded to either `open(mode=)` or `fsspec.open(mode=)` to control\u001b[39;00m\n\u001b[1;32m   3859\u001b[0m \u001b[38;5;124;03m        the file opening. Typical values include:\u001b[39;00m\n\u001b[1;32m   3860\u001b[0m \n\u001b[1;32m   3861\u001b[0m \u001b[38;5;124;03m        - 'w', truncate the file first.\u001b[39;00m\n\u001b[1;32m   3862\u001b[0m \u001b[38;5;124;03m        - 'x', exclusive creation, failing if the file already exists.\u001b[39;00m\n\u001b[1;32m   3863\u001b[0m \u001b[38;5;124;03m        - 'a', append to the end of file if it exists.\u001b[39;00m\n\u001b[1;32m   3864\u001b[0m \n\u001b[1;32m   3865\u001b[0m \u001b[38;5;124;03m    encoding : str, optional\u001b[39;00m\n\u001b[1;32m   3866\u001b[0m \u001b[38;5;124;03m        A string representing the encoding to use in the output file,\u001b[39;00m\n\u001b[1;32m   3867\u001b[0m \u001b[38;5;124;03m        defaults to 'utf-8'. `encoding` is not supported if `path_or_buf`\u001b[39;00m\n\u001b[1;32m   3868\u001b[0m \u001b[38;5;124;03m        is a non-binary file object.\u001b[39;00m\n\u001b[1;32m   3869\u001b[0m \u001b[38;5;124;03m    {compression_options}\u001b[39;00m\n\u001b[1;32m   3870\u001b[0m \n\u001b[1;32m   3871\u001b[0m \u001b[38;5;124;03m           May be a dict with key 'method' as compression mode\u001b[39;00m\n\u001b[1;32m   3872\u001b[0m \u001b[38;5;124;03m           and other entries as additional compression options if\u001b[39;00m\n\u001b[1;32m   3873\u001b[0m \u001b[38;5;124;03m           compression mode is 'zip'.\u001b[39;00m\n\u001b[1;32m   3874\u001b[0m \n\u001b[1;32m   3875\u001b[0m \u001b[38;5;124;03m           Passing compression options as keys in dict is\u001b[39;00m\n\u001b[1;32m   3876\u001b[0m \u001b[38;5;124;03m           supported for compression modes 'gzip', 'bz2', 'zstd', and 'zip'.\u001b[39;00m\n\u001b[1;32m   3877\u001b[0m \u001b[38;5;124;03m    quoting : optional constant from csv module\u001b[39;00m\n\u001b[1;32m   3878\u001b[0m \u001b[38;5;124;03m        Defaults to csv.QUOTE_MINIMAL. If you have set a `float_format`\u001b[39;00m\n\u001b[1;32m   3879\u001b[0m \u001b[38;5;124;03m        then floats are converted to strings and thus csv.QUOTE_NONNUMERIC\u001b[39;00m\n\u001b[1;32m   3880\u001b[0m \u001b[38;5;124;03m        will treat them as non-numeric.\u001b[39;00m\n\u001b[1;32m   3881\u001b[0m \u001b[38;5;124;03m    quotechar : str, default '\\\"'\u001b[39;00m\n\u001b[1;32m   3882\u001b[0m \u001b[38;5;124;03m        String of length 1. Character used to quote fields.\u001b[39;00m\n\u001b[1;32m   3883\u001b[0m \u001b[38;5;124;03m    lineterminator : str, optional\u001b[39;00m\n\u001b[1;32m   3884\u001b[0m \u001b[38;5;124;03m        The newline character or character sequence to use in the output\u001b[39;00m\n\u001b[1;32m   3885\u001b[0m \u001b[38;5;124;03m        file. Defaults to `os.linesep`, which depends on the OS in which\u001b[39;00m\n\u001b[1;32m   3886\u001b[0m \u001b[38;5;124;03m        this method is called ('\\\\n' for linux, '\\\\r\\\\n' for Windows, i.e.).\u001b[39;00m\n\u001b[1;32m   3887\u001b[0m \n\u001b[1;32m   3888\u001b[0m \u001b[38;5;124;03m        .. versionchanged:: 1.5.0\u001b[39;00m\n\u001b[1;32m   3889\u001b[0m \n\u001b[1;32m   3890\u001b[0m \u001b[38;5;124;03m            Previously was line_terminator, changed for consistency with\u001b[39;00m\n\u001b[1;32m   3891\u001b[0m \u001b[38;5;124;03m            read_csv and the standard library 'csv' module.\u001b[39;00m\n\u001b[1;32m   3892\u001b[0m \n\u001b[1;32m   3893\u001b[0m \u001b[38;5;124;03m    chunksize : int or None\u001b[39;00m\n\u001b[1;32m   3894\u001b[0m \u001b[38;5;124;03m        Rows to write at a time.\u001b[39;00m\n\u001b[1;32m   3895\u001b[0m \u001b[38;5;124;03m    date_format : str, default None\u001b[39;00m\n\u001b[1;32m   3896\u001b[0m \u001b[38;5;124;03m        Format string for datetime objects.\u001b[39;00m\n\u001b[1;32m   3897\u001b[0m \u001b[38;5;124;03m    doublequote : bool, default True\u001b[39;00m\n\u001b[1;32m   3898\u001b[0m \u001b[38;5;124;03m        Control quoting of `quotechar` inside a field.\u001b[39;00m\n\u001b[1;32m   3899\u001b[0m \u001b[38;5;124;03m    escapechar : str, default None\u001b[39;00m\n\u001b[1;32m   3900\u001b[0m \u001b[38;5;124;03m        String of length 1. Character used to escape `sep` and `quotechar`\u001b[39;00m\n\u001b[1;32m   3901\u001b[0m \u001b[38;5;124;03m        when appropriate.\u001b[39;00m\n\u001b[0;32m-> 3902\u001b[0m \u001b[38;5;124;03m    decimal : str, default '.'\u001b[39;00m\n\u001b[1;32m   3903\u001b[0m \u001b[38;5;124;03m        Character recognized as decimal separator. E.g. use ',' for\u001b[39;00m\n\u001b[1;32m   3904\u001b[0m \u001b[38;5;124;03m        European data.\u001b[39;00m\n\u001b[1;32m   3905\u001b[0m \u001b[38;5;124;03m    errors : str, default 'strict'\u001b[39;00m\n\u001b[1;32m   3906\u001b[0m \u001b[38;5;124;03m        Specifies how encoding and decoding errors are to be handled.\u001b[39;00m\n\u001b[1;32m   3907\u001b[0m \u001b[38;5;124;03m        See the errors argument for :func:`open` for a full list\u001b[39;00m\n\u001b[1;32m   3908\u001b[0m \u001b[38;5;124;03m        of options.\u001b[39;00m\n\u001b[1;32m   3909\u001b[0m \n\u001b[1;32m   3910\u001b[0m \u001b[38;5;124;03m    {storage_options}\u001b[39;00m\n\u001b[1;32m   3911\u001b[0m \n\u001b[1;32m   3912\u001b[0m \u001b[38;5;124;03m    Returns\u001b[39;00m\n\u001b[1;32m   3913\u001b[0m \u001b[38;5;124;03m    -------\u001b[39;00m\n\u001b[1;32m   3914\u001b[0m \u001b[38;5;124;03m    None or str\u001b[39;00m\n\u001b[1;32m   3915\u001b[0m \u001b[38;5;124;03m        If path_or_buf is None, returns the resulting csv format as a\u001b[39;00m\n\u001b[1;32m   3916\u001b[0m \u001b[38;5;124;03m        string. Otherwise returns None.\u001b[39;00m\n\u001b[1;32m   3917\u001b[0m \n\u001b[1;32m   3918\u001b[0m \u001b[38;5;124;03m    See Also\u001b[39;00m\n\u001b[1;32m   3919\u001b[0m \u001b[38;5;124;03m    --------\u001b[39;00m\n\u001b[1;32m   3920\u001b[0m \u001b[38;5;124;03m    read_csv : Load a CSV file into a DataFrame.\u001b[39;00m\n\u001b[1;32m   3921\u001b[0m \u001b[38;5;124;03m    to_excel : Write DataFrame to an Excel file.\u001b[39;00m\n\u001b[1;32m   3922\u001b[0m \n\u001b[1;32m   3923\u001b[0m \u001b[38;5;124;03m    Examples\u001b[39;00m\n\u001b[1;32m   3924\u001b[0m \u001b[38;5;124;03m    --------\u001b[39;00m\n\u001b[1;32m   3925\u001b[0m \u001b[38;5;124;03m    Create 'out.csv' containing 'df' without indices\u001b[39;00m\n\u001b[1;32m   3926\u001b[0m \n\u001b[1;32m   3927\u001b[0m \u001b[38;5;124;03m    >>> df = pd.DataFrame({{'name': ['Raphael', 'Donatello'],\u001b[39;00m\n\u001b[1;32m   3928\u001b[0m \u001b[38;5;124;03m    ...                    'mask': ['red', 'purple'],\u001b[39;00m\n\u001b[1;32m   3929\u001b[0m \u001b[38;5;124;03m    ...                    'weapon': ['sai', 'bo staff']}})\u001b[39;00m\n\u001b[1;32m   3930\u001b[0m \u001b[38;5;124;03m    >>> df.to_csv('out.csv', index=False)  # doctest: +SKIP\u001b[39;00m\n\u001b[1;32m   3931\u001b[0m \n\u001b[1;32m   3932\u001b[0m \u001b[38;5;124;03m    Create 'out.zip' containing 'out.csv'\u001b[39;00m\n\u001b[1;32m   3933\u001b[0m \n\u001b[1;32m   3934\u001b[0m \u001b[38;5;124;03m    >>> df.to_csv(index=False)\u001b[39;00m\n\u001b[1;32m   3935\u001b[0m \u001b[38;5;124;03m    'name,mask,weapon\\nRaphael,red,sai\\nDonatello,purple,bo staff\\n'\u001b[39;00m\n\u001b[1;32m   3936\u001b[0m \u001b[38;5;124;03m    >>> compression_opts = dict(method='zip',\u001b[39;00m\n\u001b[1;32m   3937\u001b[0m \u001b[38;5;124;03m    ...                         archive_name='out.csv')  # doctest: +SKIP\u001b[39;00m\n\u001b[1;32m   3938\u001b[0m \u001b[38;5;124;03m    >>> df.to_csv('out.zip', index=False,\u001b[39;00m\n\u001b[1;32m   3939\u001b[0m \u001b[38;5;124;03m    ...           compression=compression_opts)  # doctest: +SKIP\u001b[39;00m\n\u001b[1;32m   3940\u001b[0m \n\u001b[1;32m   3941\u001b[0m \u001b[38;5;124;03m    To write a csv file to a new folder or nested folder you will first\u001b[39;00m\n\u001b[1;32m   3942\u001b[0m \u001b[38;5;124;03m    need to create it using either Pathlib or os:\u001b[39;00m\n\u001b[1;32m   3943\u001b[0m \n\u001b[1;32m   3944\u001b[0m \u001b[38;5;124;03m    >>> from pathlib import Path  # doctest: +SKIP\u001b[39;00m\n\u001b[1;32m   3945\u001b[0m \u001b[38;5;124;03m    >>> filepath = Path('folder/subfolder/out.csv')  # doctest: +SKIP\u001b[39;00m\n\u001b[1;32m   3946\u001b[0m \u001b[38;5;124;03m    >>> filepath.parent.mkdir(parents=True, exist_ok=True)  # doctest: +SKIP\u001b[39;00m\n\u001b[1;32m   3947\u001b[0m \u001b[38;5;124;03m    >>> df.to_csv(filepath)  # doctest: +SKIP\u001b[39;00m\n\u001b[1;32m   3948\u001b[0m \n\u001b[1;32m   3949\u001b[0m \u001b[38;5;124;03m    >>> import os  # doctest: +SKIP\u001b[39;00m\n\u001b[1;32m   3950\u001b[0m \u001b[38;5;124;03m    >>> os.makedirs('folder/subfolder', exist_ok=True)  # doctest: +SKIP\u001b[39;00m\n\u001b[1;32m   3951\u001b[0m \u001b[38;5;124;03m    >>> df.to_csv('folder/subfolder/out.csv')  # doctest: +SKIP\u001b[39;00m\n\u001b[1;32m   3952\u001b[0m \u001b[38;5;124;03m    \"\"\"\u001b[39;00m\n\u001b[1;32m   3953\u001b[0m     df \u001b[38;5;241m=\u001b[39m \u001b[38;5;28mself\u001b[39m \u001b[38;5;28;01mif\u001b[39;00m \u001b[38;5;28misinstance\u001b[39m(\u001b[38;5;28mself\u001b[39m, ABCDataFrame) \u001b[38;5;28;01melse\u001b[39;00m \u001b[38;5;28mself\u001b[39m\u001b[38;5;241m.\u001b[39mto_frame()\n\u001b[1;32m   3955\u001b[0m     formatter \u001b[38;5;241m=\u001b[39m DataFrameFormatter(\n\u001b[1;32m   3956\u001b[0m         frame\u001b[38;5;241m=\u001b[39mdf,\n\u001b[1;32m   3957\u001b[0m         header\u001b[38;5;241m=\u001b[39mheader,\n\u001b[0;32m   (...)\u001b[0m\n\u001b[1;32m   3961\u001b[0m         decimal\u001b[38;5;241m=\u001b[39mdecimal,\n\u001b[1;32m   3962\u001b[0m     )\n",
      "File \u001b[0;32m/Library/Frameworks/Python.framework/Versions/3.11/lib/python3.11/site-packages/pandas/io/formats/format.py:1125\u001b[0m, in \u001b[0;36mto_csv\u001b[0;34m(self, path_or_buf, encoding, sep, columns, index_label, mode, compression, quoting, quotechar, lineterminator, chunksize, date_format, doublequote, escapechar, errors, storage_options)\u001b[0m\n\u001b[1;32m   1123\u001b[0m \u001b[38;5;28;01melif\u001b[39;00m \u001b[38;5;28misinstance\u001b[39m(values\u001b[38;5;241m.\u001b[39mdtype, DatetimeTZDtype):\n\u001b[1;32m   1124\u001b[0m     fmt_klass \u001b[38;5;241m=\u001b[39m _Datetime64TZFormatter\n\u001b[0;32m-> 1125\u001b[0m     values \u001b[38;5;241m=\u001b[39m cast(DatetimeArray, values)\n\u001b[1;32m   1126\u001b[0m \u001b[38;5;28;01melif\u001b[39;00m lib\u001b[38;5;241m.\u001b[39mis_np_dtype(values\u001b[38;5;241m.\u001b[39mdtype, \u001b[38;5;124m\"\u001b[39m\u001b[38;5;124mm\u001b[39m\u001b[38;5;124m\"\u001b[39m):\n\u001b[1;32m   1127\u001b[0m     fmt_klass \u001b[38;5;241m=\u001b[39m _Timedelta64Formatter\n",
      "File \u001b[0;32m/Library/Frameworks/Python.framework/Versions/3.11/lib/python3.11/site-packages/pandas/io/formats/csvs.py:24\u001b[0m\n\u001b[1;32m     21\u001b[0m \u001b[38;5;28;01mimport\u001b[39;00m \u001b[38;5;21;01mnumpy\u001b[39;00m \u001b[38;5;28;01mas\u001b[39;00m \u001b[38;5;21;01mnp\u001b[39;00m\n\u001b[1;32m     23\u001b[0m \u001b[38;5;28;01mfrom\u001b[39;00m \u001b[38;5;21;01mpandas\u001b[39;00m\u001b[38;5;21;01m.\u001b[39;00m\u001b[38;5;21;01m_libs\u001b[39;00m \u001b[38;5;28;01mimport\u001b[39;00m writers \u001b[38;5;28;01mas\u001b[39;00m libwriters\n\u001b[0;32m---> 24\u001b[0m \u001b[38;5;28;01mfrom\u001b[39;00m \u001b[38;5;21;01mpandas\u001b[39;00m\u001b[38;5;21;01m.\u001b[39;00m\u001b[38;5;21;01m_typing\u001b[39;00m \u001b[38;5;28;01mimport\u001b[39;00m SequenceNotStr\n\u001b[1;32m     25\u001b[0m \u001b[38;5;28;01mfrom\u001b[39;00m \u001b[38;5;21;01mpandas\u001b[39;00m\u001b[38;5;21;01m.\u001b[39;00m\u001b[38;5;21;01mutil\u001b[39;00m\u001b[38;5;21;01m.\u001b[39;00m\u001b[38;5;21;01m_decorators\u001b[39;00m \u001b[38;5;28;01mimport\u001b[39;00m cache_readonly\n\u001b[1;32m     27\u001b[0m \u001b[38;5;28;01mfrom\u001b[39;00m \u001b[38;5;21;01mpandas\u001b[39;00m\u001b[38;5;21;01m.\u001b[39;00m\u001b[38;5;21;01mcore\u001b[39;00m\u001b[38;5;21;01m.\u001b[39;00m\u001b[38;5;21;01mdtypes\u001b[39;00m\u001b[38;5;21;01m.\u001b[39;00m\u001b[38;5;21;01mgeneric\u001b[39;00m \u001b[38;5;28;01mimport\u001b[39;00m (\n\u001b[1;32m     28\u001b[0m     ABCDatetimeIndex,\n\u001b[1;32m     29\u001b[0m     ABCIndex,\n\u001b[1;32m     30\u001b[0m     ABCMultiIndex,\n\u001b[1;32m     31\u001b[0m     ABCPeriodIndex,\n\u001b[1;32m     32\u001b[0m )\n",
      "\u001b[0;31mImportError\u001b[0m: cannot import name 'SequenceNotStr' from 'pandas._typing' (/Library/Frameworks/Python.framework/Versions/3.11/lib/python3.11/site-packages/pandas/_typing.py)"
     ]
    }
   ],
   "source": [
    "df_videoviews.to_csv('../DB_Table/VideoViews_Table.csv', index=False)"
   ]
  }
 ],
 "metadata": {
  "kernelspec": {
   "display_name": "Python 3",
   "language": "python",
   "name": "python3"
  },
  "language_info": {
   "codemirror_mode": {
    "name": "ipython",
    "version": 3
   },
   "file_extension": ".py",
   "mimetype": "text/x-python",
   "name": "python",
   "nbconvert_exporter": "python",
   "pygments_lexer": "ipython3",
   "version": "3.11.4"
  }
 },
 "nbformat": 4,
 "nbformat_minor": 2
}
