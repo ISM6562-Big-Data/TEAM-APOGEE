{
 "cells": [
  {
   "cell_type": "code",
   "execution_count": 14,
   "metadata": {},
   "outputs": [],
   "source": [
    "##!pip install Faker;\n",
    "import pandas as pd;\n",
    "import numpy as np;\n",
    "import random;\n",
    "from faker import Faker;\n",
    "from datetime import datetime, timezone"
   ]
  },
  {
   "cell_type": "code",
   "execution_count": 15,
   "metadata": {},
   "outputs": [],
   "source": [
    "users_table = pd.read_csv(\"../DB_Table/Users_Table.csv\")\n",
    "userids = users_table[\"user_id\"]\n",
    "\n",
    "video_table = pd.read_csv(\"../DB_Table/Video_Table.csv\")\n",
    "videoids = video_table[\"video_id\"]\n",
    "\n",
    "try:\n",
    "    comment_table = pd.read_csv(\"comment_dump.csv\", encoding='utf-8')\n",
    "except UnicodeDecodeError:\n",
    "    # If utf-8 fails, try other encodings such as 'latin-1'\n",
    "    comment_table = pd.read_csv(\"comment_dump.csv\", encoding='latin-1')\n",
    "comment_text = comment_table[\"textOriginal\"]\n"
   ]
  },
  {
   "cell_type": "code",
   "execution_count": 16,
   "metadata": {},
   "outputs": [],
   "source": [
    "columns = ['comment_id', 'user_id', 'video_id', 'comment_text', 'comment_date']\n",
    "df_comments = pd.DataFrame(columns=columns)"
   ]
  },
  {
   "cell_type": "code",
   "execution_count": null,
   "metadata": {},
   "outputs": [],
   "source": []
  },
  {
   "cell_type": "code",
   "execution_count": 17,
   "metadata": {},
   "outputs": [],
   "source": [
    "for video_id in videoids[:2000]:\n",
    "    # Generate a random number from 20 to 100 for each user ID\n",
    "    random_number = random.randint(0, 100)\n",
    "    for i in range(0, random_number):\n",
    "        x = video_id\n",
    "        y = random.choice(userids)\n",
    "        new_row = pd.Series(data = {'comment_id':None, 'user_id':y, 'video_id':x, 'comment_text':None, 'comment_date':None}, name = None)\n",
    "            #print(f\"User ID {user_id}: subs {random.choice(userids)}\")\n",
    "            #df_videoviews = df_videoviews.append(new_row, ignore_index=True)\n",
    "        df_comments = pd.concat([df_comments, pd.DataFrame([new_row])], ignore_index=True)"
   ]
  },
  {
   "cell_type": "code",
   "execution_count": 10,
   "metadata": {},
   "outputs": [
    {
     "name": "stdout",
     "output_type": "stream",
     "text": [
      "149373\n"
     ]
    }
   ],
   "source": [
    "print(len(df_comments))"
   ]
  },
  {
   "cell_type": "code",
   "execution_count": 11,
   "metadata": {},
   "outputs": [
    {
     "name": "stdout",
     "output_type": "stream",
     "text": [
      "118367\n"
     ]
    }
   ],
   "source": []
  },
  {
   "cell_type": "code",
   "execution_count": 12,
   "metadata": {},
   "outputs": [
    {
     "name": "stdout",
     "output_type": "stream",
     "text": [
      "  comment_id       user_id         video_id  \\\n",
      "0  CYOjsU100  UC_YO44yjS45  VYOjWN1yjS23201   \n",
      "1  CYOjsU101  UC_YO87yjS88  VYOjWN1yjS23201   \n",
      "2  CYOjsU102  UC_YO42yjS43  VYOjWN1yjS23201   \n",
      "3  CYOjsU103  UC_YO10yjS11  VYOjWN1yjS23201   \n",
      "4  CYOjsU104  UC_YO76yjS77  VYOjWN1yjS23201   \n",
      "\n",
      "                                        comment_text comment_date  \n",
      "0       I have no clue what the fuck is going on....   2020-10-05  \n",
      "1             This is more than just Òa video Ò.....   2020-02-22  \n",
      "2                     #15 on trending in Germany!!!!   2021-05-05  \n",
      "3                                  This is Brasil...   2022-05-19  \n",
      "4  Did anyone else notice blockboy and 21 savage ...   2020-03-04  \n"
     ]
    }
   ],
   "source": [
    "fake = Faker()\n",
    "for i, item in df_comments.iterrows():\n",
    "    item['comment_id'] = \"CYOjsU\"+str(100+i)\n",
    "    item['comment_text'] = random.choice(comment_text)\n",
    "    item['comment_date'] = fake.date_time_this_decade().date()\n",
    "    \n",
    "   \n",
    "print(df_comments.head())"
   ]
  },
  {
   "cell_type": "code",
   "execution_count": 13,
   "metadata": {},
   "outputs": [],
   "source": [
    "df_comments.to_csv('../DB_Table/VideoComments_Table.csv', index=False)"
   ]
  }
 ],
 "metadata": {
  "kernelspec": {
   "display_name": "base",
   "language": "python",
   "name": "python3"
  },
  "language_info": {
   "codemirror_mode": {
    "name": "ipython",
    "version": 3
   },
   "file_extension": ".py",
   "mimetype": "text/x-python",
   "name": "python",
   "nbconvert_exporter": "python",
   "pygments_lexer": "ipython3",
   "version": "3.11.4"
  }
 },
 "nbformat": 4,
 "nbformat_minor": 2
}
