{
 "cells": [
  {
   "cell_type": "code",
   "execution_count": 1,
   "metadata": {},
   "outputs": [],
   "source": [
    "##!pip install Faker;\n",
    "import pandas as pd;\n",
    "import numpy as np;\n",
    "import random;\n",
    "from faker import Faker;\n",
    "from datetime import datetime, timezone"
   ]
  },
  {
   "cell_type": "code",
   "execution_count": 2,
   "metadata": {},
   "outputs": [],
   "source": [
    "users_table = pd.read_csv(\"../DB_Table/Users_Table.csv\")\n",
    "userids = users_table[\"user_id\"]\n",
    "\n",
    "video_table = pd.read_csv(\"../DB_Table/Video_Table.csv\")\n",
    "videoids = video_table[\"video_id\"]\n",
    "\n"
   ]
  },
  {
   "cell_type": "code",
   "execution_count": 3,
   "metadata": {},
   "outputs": [],
   "source": [
    "columns = ['comment_id', 'user_id', 'video_id', 'comment_text', 'comment_date']\n",
    "df_comments = pd.DataFrame(columns=columns)"
   ]
  }
 ],
 "metadata": {
  "kernelspec": {
   "display_name": "base",
   "language": "python",
   "name": "python3"
  },
  "language_info": {
   "codemirror_mode": {
    "name": "ipython",
    "version": 3
   },
   "file_extension": ".py",
   "mimetype": "text/x-python",
   "name": "python",
   "nbconvert_exporter": "python",
   "pygments_lexer": "ipython3",
   "version": "3.11.4"
  }
 },
 "nbformat": 4,
 "nbformat_minor": 2
}
