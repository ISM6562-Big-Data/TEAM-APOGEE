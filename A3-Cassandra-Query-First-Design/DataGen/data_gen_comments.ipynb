{
 "cells": [
  {
   "cell_type": "code",
   "execution_count": 1,
   "metadata": {},
   "outputs": [],
   "source": [
    "##!pip install Faker;\n",
    "import pandas as pd;\n",
    "import numpy as np;\n",
    "import random;\n",
    "from faker import Faker;\n",
    "from datetime import datetime, timezone"
   ]
  },
  {
   "cell_type": "code",
   "execution_count": 2,
   "metadata": {},
   "outputs": [],
   "source": [
    "users_table = pd.read_csv(\"../DB_Table/Users_Table.csv\")\n",
    "userids = users_table[\"user_id\"]\n",
    "\n",
    "video_table = pd.read_csv(\"../DB_Table/Video_Table.csv\")\n",
    "videoids = video_table[\"video_id\"]\n",
    "\n",
    "try:\n",
    "    comment_table = pd.read_csv(\"comment_dump.csv\", encoding='utf-8')\n",
    "except UnicodeDecodeError:\n",
    "    # If utf-8 fails, try other encodings such as 'latin-1'\n",
    "    comment_table = pd.read_csv(\"comment_dump.csv\", encoding='latin-1')\n",
    "comment_text = comment_table[\"textOriginal\"]\n"
   ]
  },
  {
   "cell_type": "code",
   "execution_count": 4,
   "metadata": {},
   "outputs": [],
   "source": [
    "type(comment_text )\n",
    "comment_text = comment_text.str.replace(r'[^\\w\\s]|[\\r\\n]', '', regex=True)"
   ]
  },
  {
   "cell_type": "code",
   "execution_count": 5,
   "metadata": {},
   "outputs": [],
   "source": [
    "columns = ['comment_id', 'user_id', 'video_id', 'comment_text', 'comment_date']\n",
    "df_comments = pd.DataFrame(columns=columns)"
   ]
  },
  {
   "cell_type": "code",
   "execution_count": null,
   "metadata": {},
   "outputs": [],
   "source": []
  },
  {
   "cell_type": "code",
   "execution_count": 6,
   "metadata": {},
   "outputs": [],
   "source": [
    "for video_id in videoids[:2000]:\n",
    "    # Generate a random number from 20 to 100 for each user ID\n",
    "    random_number = random.randint(0, 100)\n",
    "    for i in range(0, random_number):\n",
    "        x = video_id\n",
    "        y = random.choice(userids)\n",
    "        new_row = pd.Series(data = {'comment_id':None, 'user_id':y, 'video_id':x, 'comment_text':None, 'comment_date':None}, name = None)\n",
    "            #print(f\"User ID {user_id}: subs {random.choice(userids)}\")\n",
    "            #df_videoviews = df_videoviews.append(new_row, ignore_index=True)\n",
    "        df_comments = pd.concat([df_comments, pd.DataFrame([new_row])], ignore_index=True)"
   ]
  },
  {
   "cell_type": "code",
   "execution_count": 7,
   "metadata": {},
   "outputs": [
    {
     "name": "stdout",
     "output_type": "stream",
     "text": [
      "101975\n"
     ]
    }
   ],
   "source": [
    "print(len(df_comments))"
   ]
  },
  {
   "cell_type": "code",
   "execution_count": 11,
   "metadata": {},
   "outputs": [
    {
     "name": "stdout",
     "output_type": "stream",
     "text": [
      "118367\n"
     ]
    }
   ],
   "source": []
  },
  {
   "cell_type": "code",
   "execution_count": 8,
   "metadata": {},
   "outputs": [
    {
     "name": "stdout",
     "output_type": "stream",
     "text": [
      "  comment_id         user_id         video_id  \\\n",
      "0  CYOjsU100  UC_YO147yjS148  VYOjWN1yjS23201   \n",
      "1  CYOjsU101  UC_YO193yjS194  VYOjWN1yjS23201   \n",
      "2  CYOjsU102  UC_YO141yjS142  VYOjWN1yjS23201   \n",
      "3  CYOjsU103    UC_YO67yjS68  VYOjWN1yjS23201   \n",
      "4  CYOjsU104    UC_YO94yjS95  VYOjWN1yjS23201   \n",
      "\n",
      "                                        comment_text comment_date  \n",
      "0                   I got the strap I got a carry em   2023-03-04  \n",
      "1       Kanye should have a sit down  with this man    2021-04-22  \n",
      "2  1 In new Zealand Youre such a genius DAMN ____...   2020-05-14  \n",
      "3  If this music video offended you then the prob...   2022-07-24  \n",
      "4                         Only my dog listen to this   2020-10-18  \n"
     ]
    }
   ],
   "source": [
    "fake = Faker()\n",
    "for i, item in df_comments.iterrows():\n",
    "    item['comment_id'] = \"CYOjsU\"+str(100+i)\n",
    "    item['comment_text'] = random.choice(comment_text)\n",
    "    item['comment_date'] = fake.date_time_this_decade().date()\n",
    "    \n",
    "   \n",
    "print(df_comments.head())"
   ]
  },
  {
   "cell_type": "code",
   "execution_count": 9,
   "metadata": {},
   "outputs": [],
   "source": [
    "df_comments.to_csv('../DB_Table/VideoComments_Table.csv', index=False, sep=';')"
   ]
  }
 ],
 "metadata": {
  "kernelspec": {
   "display_name": "base",
   "language": "python",
   "name": "python3"
  },
  "language_info": {
   "codemirror_mode": {
    "name": "ipython",
    "version": 3
   },
   "file_extension": ".py",
   "mimetype": "text/x-python",
   "name": "python",
   "nbconvert_exporter": "python",
   "pygments_lexer": "ipython3",
   "version": "3.11.4"
  }
 },
 "nbformat": 4,
 "nbformat_minor": 2
}
