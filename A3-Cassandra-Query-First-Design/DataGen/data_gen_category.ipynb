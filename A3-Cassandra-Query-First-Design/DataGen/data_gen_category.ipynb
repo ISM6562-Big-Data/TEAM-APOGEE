{
 "cells": [
  {
   "cell_type": "code",
   "execution_count": 1,
   "metadata": {},
   "outputs": [],
   "source": [
    "import pandas as pd;\n",
    "import numpy as np;\n",
    "from faker import Faker\n",
    "import pandas as pd\n",
    "from datetime import datetime, timezone\n",
    "import random"
   ]
  },
  {
   "cell_type": "code",
   "execution_count": 2,
   "metadata": {},
   "outputs": [],
   "source": [
    "category = ['Seek', 'System', 'Investment', 'Film', 'Stand', 'Agency', 'Page', 'Adult', 'Author', 'Anyone', \n",
    " 'Rock', 'Born', 'Against', 'Finish', 'Democratic', 'Job', 'Senior', 'Smile', 'Throughout', 'Staff', \n",
    " 'By', 'Debate', 'Television', 'Determine', 'Next', 'Go', 'Great', 'Visit', 'Kitchen', 'Type', \n",
    " 'Mouth', 'Magazine', 'Form', 'End', 'Give', 'Trade', 'Bed', 'Enough', 'Decision', 'Close', \n",
    " 'Cost', 'Size', 'Learn', 'Itself', 'Professional', 'Money', 'Social', 'Place', 'Subject', 'Know']"
   ]
  },
  {
   "cell_type": "code",
   "execution_count": 3,
   "metadata": {},
   "outputs": [],
   "source": [
    "#50 Categories\n",
    "columns = ['category_id', 'category_name']\n",
    "df_category = pd.DataFrame(columns=columns)"
   ]
  },
  {
   "cell_type": "code",
   "execution_count": 4,
   "metadata": {},
   "outputs": [],
   "source": [
    "data = [{\n",
    "    'category_id': None,\n",
    "    'category_name': None\n",
    "} for _ in range(50)]  # Generate 50 entries"
   ]
  },
  {
   "cell_type": "code",
   "execution_count": 6,
   "metadata": {},
   "outputs": [
    {
     "name": "stdout",
     "output_type": "stream",
     "text": [
      "  category_id category_name\n",
      "0      CT_YO0          Seek\n",
      "1      CT_YO1        System\n",
      "2      CT_YO2    Investment\n",
      "3      CT_YO3          Film\n",
      "4      CT_YO4         Stand\n"
     ]
    }
   ],
   "source": [
    "for i, item in enumerate(data, start=0):\n",
    "    item['category_id'] = \"CT_YO\"+str(i)\n",
    "    item['category_name'] = category[i]\n",
    "   # item['user_id'] = i\n",
    "# Create DataFrame\n",
    "df_category = pd.DataFrame(data)\n",
    "# Display the first few rows of the DataFrame\n",
    "print(df_category.head())"
   ]
  },
  {
   "cell_type": "code",
   "execution_count": 9,
   "metadata": {},
   "outputs": [],
   "source": [
    "df_category.to_csv('../DB_Table/Category_Table.csv', index=False)"
   ]
  }
 ],
 "metadata": {
  "kernelspec": {
   "display_name": "Python 3",
   "language": "python",
   "name": "python3"
  },
  "language_info": {
   "codemirror_mode": {
    "name": "ipython",
    "version": 3
   },
   "file_extension": ".py",
   "mimetype": "text/x-python",
   "name": "python",
   "nbconvert_exporter": "python",
   "pygments_lexer": "ipython3",
   "version": "3.11.4"
  }
 },
 "nbformat": 4,
 "nbformat_minor": 2
}
