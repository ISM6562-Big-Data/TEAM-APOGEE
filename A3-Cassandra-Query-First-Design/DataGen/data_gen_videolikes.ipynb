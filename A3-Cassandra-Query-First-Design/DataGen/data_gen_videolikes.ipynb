{
 "cells": [
  {
   "cell_type": "code",
   "execution_count": 1,
   "metadata": {},
   "outputs": [],
   "source": [
    "##!pip install Faker;\n",
    "import pandas as pd;\n",
    "import numpy as np;\n",
    "import random;"
   ]
  },
  {
   "cell_type": "code",
   "execution_count": 2,
   "metadata": {},
   "outputs": [],
   "source": [
    "users_table = pd.read_csv(\"../DB_Table/Users_Table.csv\")\n",
    "userids = users_table[\"user_id\"]\n",
    "\n",
    "video_table = pd.read_csv(\"../DB_Table/Video_Table.csv\")\n",
    "videoids = video_table[\"video_id\"]"
   ]
  },
  {
   "cell_type": "code",
   "execution_count": 4,
   "metadata": {},
   "outputs": [],
   "source": [
    "columns = ['like_id', 'user_id', 'video_id']\n",
    "df_videolikes = pd.DataFrame(columns=columns)"
   ]
  },
  {
   "cell_type": "code",
   "execution_count": null,
   "metadata": {},
   "outputs": [],
   "source": []
  },
  {
   "cell_type": "code",
   "execution_count": 5,
   "metadata": {},
   "outputs": [],
   "source": [
    "# Iterate over each user ID , we are taking only 175 user IDs\n",
    "for video_id in videoids[:2000]:\n",
    "    # Generate a random number from 20 to 100 for each user ID\n",
    "    random_number = random.randint(0, 30)\n",
    "    for i in range(0, random_number):\n",
    "        x = video_id\n",
    "        y = random.choice(userids)\n",
    "        new_row = pd.Series(data = {'like_id':None, 'user_id':y, 'video_id':x}, name = None)\n",
    "            #print(f\"User ID {user_id}: subs {random.choice(userids)}\")\n",
    "            #df_videoviews = df_videoviews.append(new_row, ignore_index=True)\n",
    "        df_videolikes = pd.concat([df_videolikes, pd.DataFrame([new_row])], ignore_index=True)"
   ]
  },
  {
   "cell_type": "code",
   "execution_count": 6,
   "metadata": {},
   "outputs": [
    {
     "name": "stdout",
     "output_type": "stream",
     "text": [
      "29923\n"
     ]
    }
   ],
   "source": [
    "print(len(df_videolikes))"
   ]
  },
  {
   "cell_type": "code",
   "execution_count": 7,
   "metadata": {},
   "outputs": [
    {
     "name": "stdout",
     "output_type": "stream",
     "text": [
      "28478\n"
     ]
    }
   ],
   "source": [
    "df_videolikes = df_videolikes.drop_duplicates(subset=['user_id', 'video_id'])\n",
    "print(len(df_videolikes))"
   ]
  },
  {
   "cell_type": "code",
   "execution_count": 10,
   "metadata": {},
   "outputs": [
    {
     "name": "stdout",
     "output_type": "stream",
     "text": [
      "  like_id         user_id         video_id\n",
      "0  LYO100    UC_YO28yjS29  VYOjWN1yjS23201\n",
      "2  LYO102    UC_YO59yjS60  VYOjWN1yjS23201\n",
      "3  LYO103  UC_YO150yjS151  VYOjWN1yjS23201\n",
      "4  LYO104  UC_YO112yjS113  VYOjWN1yjS23201\n",
      "5  LYO105    UC_YO42yjS43  VYOjWN1yjS23201\n"
     ]
    }
   ],
   "source": [
    "for i, item in df_videolikes.iterrows():\n",
    "    item['like_id'] = \"LYO\"+str(100+i)\n",
    "    \n",
    "   \n",
    "print(df_videolikes.head())"
   ]
  },
  {
   "cell_type": "code",
   "execution_count": 11,
   "metadata": {},
   "outputs": [],
   "source": [
    "df_videolikes.to_csv('../DB_Table/VideoLikes_Table.csv', index=False)"
   ]
  }
 ],
 "metadata": {
  "kernelspec": {
   "display_name": "Python 3",
   "language": "python",
   "name": "python3"
  },
  "language_info": {
   "codemirror_mode": {
    "name": "ipython",
    "version": 3
   },
   "file_extension": ".py",
   "mimetype": "text/x-python",
   "name": "python",
   "nbconvert_exporter": "python",
   "pygments_lexer": "ipython3",
   "version": "3.11.4"
  }
 },
 "nbformat": 4,
 "nbformat_minor": 2
}
