{
 "cells": [
  {
   "cell_type": "code",
   "execution_count": 1,
   "metadata": {},
   "outputs": [],
   "source": [
    "import pandas as pd;\n",
    "import numpy as np;\n",
    "from faker import Faker\n",
    "import pandas as pd\n",
    "from datetime import datetime, timezone\n",
    "import random"
   ]
  },
  {
   "cell_type": "code",
   "execution_count": 4,
   "metadata": {},
   "outputs": [],
   "source": [
    "users_table = pd.read_csv(\"../DB_Table/Users_Table.csv\")\n",
    "userids = users_table[\"user_id\"]"
   ]
  },
  {
   "cell_type": "code",
   "execution_count": 6,
   "metadata": {},
   "outputs": [
    {
     "name": "stdout",
     "output_type": "stream",
     "text": [
      "          video_id         user_id  \\\n",
      "0  VYOjWN1yjS23201  UC_YO172yjS173   \n",
      "1  VYOjWN2yjS34202  UC_YO125yjS126   \n",
      "2  VYOjWN3yjS45203  UC_YO153yjS154   \n",
      "3  VYOjWN4yjS56204  UC_YO164yjS165   \n",
      "4  VYOjWN5yjS67205    UC_YO15yjS16   \n",
      "\n",
      "                                               title  \\\n",
      "0                     Interview usually cover spend.   \n",
      "1              End final major nature actually news.   \n",
      "2                Behind goal drive determine region.   \n",
      "3          Contain method play show try arrive term.   \n",
      "4  Process eight us sometimes tonight between ind...   \n",
      "\n",
      "                                         description upload_date  duration  \\\n",
      "0  Movie system late event own meet attention. El...  2020-12-26      1434   \n",
      "1  Force choice go expert. Feel well interview se...  2021-11-08       374   \n",
      "2  Experience data seek tonight you close among. ...  2022-10-25      1068   \n",
      "3  Fund same laugh open within money. Serve parti...  2022-02-14       754   \n",
      "4  Pull significant rise owner church. Board noti...  2022-09-27       903   \n",
      "\n",
      "     views             status  \n",
      "0  9621964  Limited or no ads  \n",
      "1  4552734           Unlisted  \n",
      "2  6572493     Age Restricted  \n",
      "3  2534638            Private  \n",
      "4  4288885     Age Restricted  \n"
     ]
    }
   ],
   "source": [
    "# Initialize Faker\n",
    "fake = Faker()\n",
    "# Define the columns\n",
    "columns = ['video_id', 'user_id', 'title', 'description', 'upload_date', 'duration', 'views', 'status']\n",
    "# Possible statuses for YouTube videos\n",
    "statuses = [\n",
    "    \"Public\",\"Private\",\"Unlisted\",\"Scheduled\",\"Draft\",\"Processing\", \"Live\",\"Blocked\",\"Copyright Claim\", \"Monetized\",\"Not monetized\", \"Limited or no ads\",\n",
    "      \"Age Restricted\"\n",
    "]\n",
    "\n",
    "# Generate fake data for the DataFrame with the correct method for choosing statuses\n",
    "data = [{\n",
    "    'video_id': None,\n",
    "    'user_id': random.choice(userids),\n",
    "    'title': fake.sentence(),\n",
    "    'description': fake.text(),\n",
    "    'upload_date': fake.date_time_this_decade().date(),\n",
    "    'duration': fake.random_int(min=30, max=3600),  # Duration in seconds\n",
    "    'views': fake.random_number(digits=7),\n",
    "    'status': random.choice(statuses)\n",
    "} for _ in range(5000)]  # Generate 10 entries\n",
    "\n",
    "# Create DataFrame with the generated data\n",
    "\n",
    "for i, item in enumerate(data, start=1):\n",
    "    item['video_id'] = \"VYOjWN\"+str(i)+\"yjS\"+str(i+1)+str(i+2)+str(i+200)\n",
    "   # item['user_id'] = i\n",
    "# Create DataFrame\n",
    "df_videos = pd.DataFrame(data, columns=columns)\n",
    "# Display the first few rows of the DataFrame\n",
    "print(df_videos.head())"
   ]
  },
  {
   "cell_type": "code",
   "execution_count": 7,
   "metadata": {},
   "outputs": [],
   "source": [
    "df_videos.to_csv(\"../DB_Table/Video_Table.csv\", index=False)"
   ]
  }
 ],
 "metadata": {
  "kernelspec": {
   "display_name": "Python 3",
   "language": "python",
   "name": "python3"
  },
  "language_info": {
   "codemirror_mode": {
    "name": "ipython",
    "version": 3
   },
   "file_extension": ".py",
   "mimetype": "text/x-python",
   "name": "python",
   "nbconvert_exporter": "python",
   "pygments_lexer": "ipython3",
   "version": "3.11.4"
  }
 },
 "nbformat": 4,
 "nbformat_minor": 2
}
