{
 "cells": [
  {
   "cell_type": "code",
   "execution_count": 2,
   "metadata": {},
   "outputs": [],
   "source": [
    "import pandas as pd;\n",
    "import numpy as np;\n",
    "from faker import Faker\n",
    "import pandas as pd\n",
    "from datetime import datetime, timezone\n",
    "import random"
   ]
  },
  {
   "cell_type": "code",
   "execution_count": 3,
   "metadata": {},
   "outputs": [],
   "source": [
    "#200 users\n",
    "columns = ['user_id', 'username', 'email', 'password_hash', 'join_date', 'last_login']\n",
    "df_users = pd.DataFrame(columns=columns)"
   ]
  },
  {
   "cell_type": "code",
   "execution_count": 4,
   "metadata": {},
   "outputs": [
    {
     "name": "stdout",
     "output_type": "stream",
     "text": [
      "      user_id      username                        email  \\\n",
      "0  UC_YO1yjS2  greenwilliam  chambersstanley@example.org   \n",
      "1  UC_YO2yjS3  nicholscraig          robin67@example.org   \n",
      "2  UC_YO3yjS4     patrick49     sarahcoleman@example.com   \n",
      "3  UC_YO4yjS5        rjones          dgarcia@example.com   \n",
      "4  UC_YO5yjS6     smithmark        shannon60@example.com   \n",
      "\n",
      "                                       password_hash  \\\n",
      "0  a0d1a36dc01620ab31a96e7205cd124f9a851af3e3b2a9...   \n",
      "1  0d30bcd7ae16d8f27d602dd6e34ae27f274c38d3d6bc1a...   \n",
      "2  6131d85e24d677f983865cf5026f43c32e5780dec56a09...   \n",
      "3  3c2c5e801545a0b2797838cfd453cdc22c260bfc6e88be...   \n",
      "4  f85d9ad507781253026df332d6185b7137fc282d7cb2ee...   \n",
      "\n",
      "                         join_date                       last_login  \n",
      "0 2020-10-12 00:49:22.598123+00:00 2024-03-08 03:20:39.502999+00:00  \n",
      "1 2023-06-27 01:02:04.382901+00:00 2024-03-28 22:11:20.209775+00:00  \n",
      "2 2020-07-27 15:53:07.473631+00:00 2024-02-05 08:41:23.315140+00:00  \n",
      "3 2023-10-31 12:47:52.298722+00:00 2024-03-07 20:18:44.541388+00:00  \n",
      "4 2024-03-24 00:11:20.436991+00:00 2024-02-19 00:58:31.561291+00:00  \n"
     ]
    }
   ],
   "source": [
    "fake = Faker()\n",
    "# Define a function to generate a single row of data\n",
    "def generate_user():\n",
    "    return {\n",
    "        'user_id': None, \n",
    "        'username': fake.user_name(),\n",
    "        'email': fake.email(),\n",
    "        'password_hash': fake.sha256(),\n",
    "        'join_date': fake.date_time_this_decade(before_now=True, after_now=False, tzinfo=timezone.utc),\n",
    "        'last_login': fake.date_time_this_year(before_now=True, after_now=False, tzinfo=timezone.utc)\n",
    "    }\n",
    "\n",
    "# Generate multiple rows of data\n",
    "data = [generate_user() for _ in range(200)]\n",
    "\n",
    "# Assign user_id (for illustration; in a real DB, this would be auto-generated)\n",
    "for i, item in enumerate(data, start=1):\n",
    "    item['user_id'] = \"UC_YO\"+str(i)+\"yjS\"+str(i+1)\n",
    "   # item['user_id'] = i\n",
    "# Create DataFrame\n",
    "df_users = pd.DataFrame(data)\n",
    "# Display the first few rows of the DataFrame\n",
    "print(df_users.head())"
   ]
  },
  {
   "cell_type": "code",
   "execution_count": 5,
   "metadata": {},
   "outputs": [
    {
     "name": "stdout",
     "output_type": "stream",
     "text": [
      "<bound method Series.unique of 0          UC_YO1yjS2\n",
      "1          UC_YO2yjS3\n",
      "2          UC_YO3yjS4\n",
      "3          UC_YO4yjS5\n",
      "4          UC_YO5yjS6\n",
      "            ...      \n",
      "195    UC_YO196yjS197\n",
      "196    UC_YO197yjS198\n",
      "197    UC_YO198yjS199\n",
      "198    UC_YO199yjS200\n",
      "199    UC_YO200yjS201\n",
      "Name: user_id, Length: 200, dtype: object>\n"
     ]
    }
   ],
   "source": [
    "print(df_users[\"user_id\"].unique)"
   ]
  },
  {
   "cell_type": "code",
   "execution_count": 8,
   "metadata": {},
   "outputs": [],
   "source": [
    "df_users.to_csv(\"../DB_Table/Users_Table.csv\", index = False)"
   ]
  },
  {
   "cell_type": "code",
   "execution_count": null,
   "metadata": {},
   "outputs": [],
   "source": []
  }
 ],
 "metadata": {
  "kernelspec": {
   "display_name": "Python 3",
   "language": "python",
   "name": "python3"
  },
  "language_info": {
   "codemirror_mode": {
    "name": "ipython",
    "version": 3
   },
   "file_extension": ".py",
   "mimetype": "text/x-python",
   "name": "python",
   "nbconvert_exporter": "python",
   "pygments_lexer": "ipython3",
   "version": "3.11.4"
  }
 },
 "nbformat": 4,
 "nbformat_minor": 2
}
